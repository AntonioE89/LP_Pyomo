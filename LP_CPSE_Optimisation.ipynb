{
  "nbformat": 4,
  "nbformat_minor": 0,
  "metadata": {
    "colab": {
      "name": "LP_CPSE_Optimisation.ipynb",
      "provenance": [],
      "collapsed_sections": [],
      "authorship_tag": "ABX9TyP54pN5u4FBpkqoXAYE6t3o",
      "include_colab_link": true
    },
    "kernelspec": {
      "name": "python3",
      "display_name": "Python 3"
    }
  },
  "cells": [
    {
      "cell_type": "markdown",
      "metadata": {
        "id": "view-in-github",
        "colab_type": "text"
      },
      "source": [
        "<a href=\"https://colab.research.google.com/github/AntonioE89/LP_Pyomo/blob/main/LP_CPSE_Optimisation.ipynb\" target=\"_parent\"><img src=\"https://colab.research.google.com/assets/colab-badge.svg\" alt=\"Open In Colab\"/></a>"
      ]
    },
    {
      "cell_type": "markdown",
      "metadata": {
        "id": "GL0ZTl_8DzeQ"
      },
      "source": [
        "# Introduction to Continuous Optimization – linear Programming (LP)"
      ]
    },
    {
      "cell_type": "markdown",
      "metadata": {
        "id": "63HPK_ZOD_NY"
      },
      "source": [
        "## Problem Statement"
      ]
    },
    {
      "cell_type": "markdown",
      "metadata": {
        "id": "aQjWHVPCHoVC"
      },
      "source": [
        "$$\\min_{\\mathbf{x}\\in\\mathbb{R}^{n_\\mathbf{x}}} \\quad {\\bf c}^T{\\bf x}$$\n",
        "subject to:\n",
        "$$A\\mathbf{x}=\\mathbf{b}$$\n",
        "$$\\mathbf{x}^{lb}\\leq\\mathbf{x}\\leq\\mathbf{x}^{ub}$$\n",
        "\n",
        "where $A \\in \\mathbb{R}^{n_\\mathbf{x} \\times n_\\mathbf{x}}$, $\\mathbf{b}\\in \\mathbb{R}^{n_h}$."
      ]
    },
    {
      "cell_type": "markdown",
      "metadata": {
        "id": "3QttTYkCkDaw"
      },
      "source": [
        "### Linear Programming example"
      ]
    },
    {
      "cell_type": "markdown",
      "metadata": {
        "id": "MOZSgRK4kJgn"
      },
      "source": [
        "Optimization problem:\n",
        "\n",
        "$$\\min_{x_1,x_2} \\quad -x_1-x_2$$\n",
        "subject to:\n",
        "$$-x_1+x_2 \\geq 0$$\n",
        "$$x_1 \\leq 2, \\quad x_2 \\leq 3$$\n",
        "$$x_1 , x_2 \\geq 0$$\n",
        "\n",
        "\n",
        "![picture](https://drive.google.com/uc?export=view&id=1sbYGmH1YfI3Q-QaRIoFGpBwahhKBtuN8)\n",
        "\n",
        "borrowed from Benoit Chachuat's slides*\n"
      ]
    },
    {
      "cell_type": "markdown",
      "metadata": {
        "id": "ep3_-pn7frXs"
      },
      "source": [
        "# Pyomo"
      ]
    },
    {
      "cell_type": "markdown",
      "metadata": {
        "id": "TigDzJe0faXq"
      },
      "source": [
        "## Importing and installing Pyomo and cbc"
      ]
    },
    {
      "cell_type": "code",
      "metadata": {
        "id": "CEFDXjTFfnEZ",
        "colab": {
          "base_uri": "https://localhost:8080/"
        },
        "outputId": "05f00aab-9e28-4cb3-cd03-40bf7ac95169"
      },
      "source": [
        "%matplotlib inline\n",
        "import matplotlib.pyplot as plt\n",
        "import numpy as np\n",
        "\n",
        "import shutil\n",
        "import sys\n",
        "import os.path\n",
        "\n",
        "if not shutil.which(\"pyomo\"):\n",
        "    !pip install -q pyomo\n",
        "    assert(shutil.which(\"pyomo\"))\n",
        "\n",
        "if not (shutil.which(\"cbc\") or os.path.isfile(\"cbc\")):\n",
        "    if \"google.colab\" in sys.modules:\n",
        "        !apt-get install -y -qq coinor-cbc\n",
        "    else:\n",
        "        try:\n",
        "            !conda install -c conda-forge coincbc \n",
        "        except:\n",
        "            pass\n",
        "\n",
        "assert(shutil.which(\"cbc\") or os.path.isfile(\"cbc\"))\n",
        "\n",
        "from pyomo.environ import *"
      ],
      "execution_count": null,
      "outputs": [
        {
          "output_type": "stream",
          "text": [
            "Selecting previously unselected package coinor-libcoinutils3v5.\n",
            "(Reading database ... 160837 files and directories currently installed.)\n",
            "Preparing to unpack .../0-coinor-libcoinutils3v5_2.10.14+repack1-1_amd64.deb ...\n",
            "Unpacking coinor-libcoinutils3v5 (2.10.14+repack1-1) ...\n",
            "Selecting previously unselected package coinor-libosi1v5.\n",
            "Preparing to unpack .../1-coinor-libosi1v5_0.107.9+repack1-1_amd64.deb ...\n",
            "Unpacking coinor-libosi1v5 (0.107.9+repack1-1) ...\n",
            "Selecting previously unselected package coinor-libclp1.\n",
            "Preparing to unpack .../2-coinor-libclp1_1.16.11+repack1-1_amd64.deb ...\n",
            "Unpacking coinor-libclp1 (1.16.11+repack1-1) ...\n",
            "Selecting previously unselected package coinor-libcgl1.\n",
            "Preparing to unpack .../3-coinor-libcgl1_0.59.10+repack1-1_amd64.deb ...\n",
            "Unpacking coinor-libcgl1 (0.59.10+repack1-1) ...\n",
            "Selecting previously unselected package coinor-libcbc3.\n",
            "Preparing to unpack .../4-coinor-libcbc3_2.9.9+repack1-1_amd64.deb ...\n",
            "Unpacking coinor-libcbc3 (2.9.9+repack1-1) ...\n",
            "Selecting previously unselected package coinor-cbc.\n",
            "Preparing to unpack .../5-coinor-cbc_2.9.9+repack1-1_amd64.deb ...\n",
            "Unpacking coinor-cbc (2.9.9+repack1-1) ...\n",
            "Setting up coinor-libcoinutils3v5 (2.10.14+repack1-1) ...\n",
            "Setting up coinor-libosi1v5 (0.107.9+repack1-1) ...\n",
            "Setting up coinor-libclp1 (1.16.11+repack1-1) ...\n",
            "Setting up coinor-libcgl1 (0.59.10+repack1-1) ...\n",
            "Setting up coinor-libcbc3 (2.9.9+repack1-1) ...\n",
            "Setting up coinor-cbc (2.9.9+repack1-1) ...\n",
            "Processing triggers for man-db (2.8.3-2ubuntu0.1) ...\n",
            "Processing triggers for libc-bin (2.27-3ubuntu1.2) ...\n",
            "/sbin/ldconfig.real: /usr/local/lib/python3.7/dist-packages/ideep4py/lib/libmkldnn.so.0 is not a symbolic link\n",
            "\n"
          ],
          "name": "stdout"
        }
      ]
    },
    {
      "cell_type": "markdown",
      "metadata": {
        "id": "63ACj8aTfTfn"
      },
      "source": [
        "## Pyomo simple example"
      ]
    },
    {
      "cell_type": "code",
      "metadata": {
        "id": "9kl8iIOLfSFI",
        "colab": {
          "base_uri": "https://localhost:8080/"
        },
        "outputId": "083b98d3-0ba5-426f-b91e-255874e66f1b"
      },
      "source": [
        "# -- importing libraries -- #\n",
        "from pyomo.environ import *\n",
        "\n",
        "# create the model\n",
        "m = ConcreteModel()\n",
        "\n",
        "# define variables\n",
        "m.x = Var([1,2], bounds=(0,3))\n",
        "\n",
        "# define the bounds\n",
        "m.bound_x1 = Constraint(expr = m.x[1] <= 2)\n",
        "# define the constraint\n",
        "m.g1 = Constraint(expr = - m.x[1] + m.x[2] >= 0)\n",
        "\n",
        "# definint variables\n",
        "m.obj = Objective(expr = - m.x[1] - m.x[2], sense=minimize)\n",
        "\n",
        "# display model\n",
        "m.pprint()\n",
        "\n",
        "# call solver\n",
        "SolverFactory('cbc').solve(m).write()\n",
        "\n",
        "# display solution\n",
        "print('\\nObjective value = ', m.obj())\n",
        "\n",
        "print('\\nDecision Variables')\n",
        "print('$x_1$ = ', m.x[1]())\n",
        "print('$x_2$ = ', m.x[2]())"
      ],
      "execution_count": null,
      "outputs": [
        {
          "output_type": "stream",
          "text": [
            "1 Set Declarations\n",
            "    x_index : Size=1, Index=None, Ordered=Insertion\n",
            "        Key  : Dimen : Domain : Size : Members\n",
            "        None :     1 :    Any :    2 : {1, 2}\n",
            "\n",
            "1 Var Declarations\n",
            "    x : Size=2, Index=x_index\n",
            "        Key : Lower : Value : Upper : Fixed : Stale : Domain\n",
            "          1 :     0 :  None :     3 : False :  True :  Reals\n",
            "          2 :     0 :  None :     3 : False :  True :  Reals\n",
            "\n",
            "1 Objective Declarations\n",
            "    obj : Size=1, Index=None, Active=True\n",
            "        Key  : Active : Sense    : Expression\n",
            "        None :   True : minimize : - x[1] - x[2]\n",
            "\n",
            "2 Constraint Declarations\n",
            "    bound_x1 : Size=1, Index=None, Active=True\n",
            "        Key  : Lower : Body : Upper : Active\n",
            "        None :  -Inf : x[1] :   2.0 :   True\n",
            "    g1 : Size=1, Index=None, Active=True\n",
            "        Key  : Lower : Body          : Upper : Active\n",
            "        None :   0.0 : - x[1] + x[2] :  +Inf :   True\n",
            "\n",
            "1 Suffix Declarations\n",
            "    dual : Direction=Suffix.IMPORT, Datatype=Suffix.FLOAT\n",
            "        Key : Value\n",
            "\n",
            "6 Declarations: dual x_index x bound_x1 g1 obj\n",
            "# ==========================================================\n",
            "# = Solver Results                                         =\n",
            "# ==========================================================\n",
            "# ----------------------------------------------------------\n",
            "#   Problem Information\n",
            "# ----------------------------------------------------------\n",
            "Problem: \n",
            "- Name: unknown\n",
            "  Lower bound: -5.0\n",
            "  Upper bound: -5.0\n",
            "  Number of objectives: 1\n",
            "  Number of constraints: 3\n",
            "  Number of variables: 3\n",
            "  Number of nonzeros: 0\n",
            "  Sense: minimize\n",
            "# ----------------------------------------------------------\n",
            "#   Solver Information\n",
            "# ----------------------------------------------------------\n",
            "Solver: \n",
            "- Status: ok\n",
            "  User time: -1.0\n",
            "  System time: 0.0\n",
            "  Wallclock time: 0.0\n",
            "  Termination condition: optimal\n",
            "  Termination message: Model was solved to optimality (subject to tolerances), and an optimal solution is available.\n",
            "  Statistics: \n",
            "    Branch and bound: \n",
            "      Number of bounded subproblems: None\n",
            "      Number of created subproblems: None\n",
            "    Black box: \n",
            "      Number of iterations: 0\n",
            "  Error rc: 0\n",
            "  Time: 0.03223752975463867\n",
            "# ----------------------------------------------------------\n",
            "#   Solution Information\n",
            "# ----------------------------------------------------------\n",
            "Solution: \n",
            "- number of solutions: 0\n",
            "  number of solutions displayed: 0\n",
            "\n",
            "Objective value =  -5.0\n",
            "\n",
            "Decision Variables\n",
            "$x_1$ =  2.0\n",
            "$x_2$ =  3.0\n"
          ],
          "name": "stdout"
        }
      ]
    },
    {
      "cell_type": "markdown",
      "metadata": {
        "id": "vVCVxd1Trft4"
      },
      "source": [
        "### Sensitivity analysis"
      ]
    },
    {
      "cell_type": "code",
      "metadata": {
        "colab": {
          "base_uri": "https://localhost:8080/"
        },
        "id": "J_cO9PWwr74A",
        "outputId": "53ebef07-10c8-4658-8a4d-8eba2a48565d"
      },
      "source": [
        "# -- importing libraries -- #\n",
        "from pyomo.environ import *\n",
        "\n",
        "# create the model\n",
        "m = ConcreteModel()\n",
        "\n",
        "# define variables\n",
        "m.x = Var([1,2], bounds=(-np.inf,np.inf))\n",
        "\n",
        "# for access to dual solution for constraints\n",
        "m.dual = Suffix(direction=Suffix.IMPORT)\n",
        "\n",
        "# define the bounds\n",
        "m.bound_x1_ub = Constraint(expr = m.x[1] <= 2)\n",
        "m.bound_x2_ub = Constraint(expr = m.x[2] <= 3)\n",
        "m.bound_x1_lb = Constraint(expr = m.x[1] >= 0)\n",
        "m.bound_x2_lb = Constraint(expr = m.x[2] >= 0)\n",
        "# define the constraint\n",
        "m.g1 = Constraint(expr = - m.x[1] + m.x[2] >= 0)\n",
        "\n",
        "# definint variables\n",
        "m.obj = Objective(expr = - m.x[1] - m.x[2], sense=minimize)\n",
        "\n",
        "# display model\n",
        "m.pprint()\n",
        "\n",
        "# call solver\n",
        "SolverFactory('cbc').solve(m)\n",
        "\n",
        "# display solution\n",
        "print('\\nObjective value = ', m.obj())\n",
        "\n",
        "print('\\nDecision Variables')\n",
        "print('$x_1$ = ', m.x[1]())\n",
        "print('$x_2$ = ', m.x[2]())"
      ],
      "execution_count": null,
      "outputs": [
        {
          "output_type": "stream",
          "text": [
            "1 Set Declarations\n",
            "    x_index : Size=1, Index=None, Ordered=Insertion\n",
            "        Key  : Dimen : Domain : Size : Members\n",
            "        None :     1 :    Any :    2 : {1, 2}\n",
            "\n",
            "1 Var Declarations\n",
            "    x : Size=2, Index=x_index\n",
            "        Key : Lower : Value : Upper : Fixed : Stale : Domain\n",
            "          1 :  -inf :  None :   inf : False :  True :  Reals\n",
            "          2 :  -inf :  None :   inf : False :  True :  Reals\n",
            "\n",
            "1 Objective Declarations\n",
            "    obj : Size=1, Index=None, Active=True\n",
            "        Key  : Active : Sense    : Expression\n",
            "        None :   True : minimize : - x[1] - x[2]\n",
            "\n",
            "5 Constraint Declarations\n",
            "    bound_x1_lb : Size=1, Index=None, Active=True\n",
            "        Key  : Lower : Body : Upper : Active\n",
            "        None :   0.0 : x[1] :  +Inf :   True\n",
            "    bound_x1_ub : Size=1, Index=None, Active=True\n",
            "        Key  : Lower : Body : Upper : Active\n",
            "        None :  -Inf : x[1] :   2.0 :   True\n",
            "    bound_x2_lb : Size=1, Index=None, Active=True\n",
            "        Key  : Lower : Body : Upper : Active\n",
            "        None :   0.0 : x[2] :  +Inf :   True\n",
            "    bound_x2_ub : Size=1, Index=None, Active=True\n",
            "        Key  : Lower : Body : Upper : Active\n",
            "        None :  -Inf : x[2] :   3.0 :   True\n",
            "    g1 : Size=1, Index=None, Active=True\n",
            "        Key  : Lower : Body          : Upper : Active\n",
            "        None :   0.0 : - x[1] + x[2] :  +Inf :   True\n",
            "\n",
            "1 Suffix Declarations\n",
            "    dual : Direction=Suffix.IMPORT, Datatype=Suffix.FLOAT\n",
            "        Key : Value\n",
            "\n",
            "9 Declarations: x_index x dual bound_x1_ub bound_x2_ub bound_x1_lb bound_x2_lb g1 obj\n",
            "\n",
            "Objective value =  -5.0\n",
            "\n",
            "Decision Variables\n",
            "$x_1$ =  2.0\n",
            "$x_2$ =  3.0\n"
          ],
          "name": "stdout"
        }
      ]
    },
    {
      "cell_type": "code",
      "metadata": {
        "colab": {
          "base_uri": "https://localhost:8080/"
        },
        "id": "zkLuopF8riZw",
        "outputId": "3c48951a-629d-491c-cd8a-9ed53059de22"
      },
      "source": [
        "print(\"\\nSolution\")\n",
        "print(f\"x1 = {m.x[1]()}\")\n",
        "print(f\"x2 = {m.x[2]()}\")\n",
        "\n",
        "print(\"\\nSensitivity Analysis\")\n",
        "print(f\"x1_ub = {m.dual[m.bound_x1_ub]}\")\n",
        "print(f\"x2_ub = {m.dual[m.bound_x2_ub]}\")\n",
        "print(f\"x1_lb = {m.dual[m.bound_x1_lb]}\")\n",
        "print(f\"x2_ub = {m.dual[m.bound_x2_lb]}\")\n",
        "print(f\"g1 = {m.dual[m.g1]}\")"
      ],
      "execution_count": null,
      "outputs": [
        {
          "output_type": "stream",
          "text": [
            "\n",
            "Solution\n",
            "x1 = 2.0\n",
            "x2 = 3.0\n",
            "\n",
            "Sensitivity Analysis\n",
            "x1_ub = -1.0\n",
            "x2_ub = -1.0\n",
            "x1_lb = 0.0\n",
            "x2_ub = 0.0\n",
            "g1 = 0.0\n"
          ],
          "name": "stdout"
        }
      ]
    },
    {
      "cell_type": "code",
      "metadata": {
        "colab": {
          "base_uri": "https://localhost:8080/"
        },
        "id": "rJ8jjMpmx-Ab",
        "outputId": "38f5bcc6-6612-433e-e0d7-69ca4cd88074"
      },
      "source": [
        "Ahat_a = np.array([[1,0],[0,1]])\n",
        "c      = np.array([[-1,-1]]).T\n",
        "lam    = c.T@np.linalg.inv(Ahat_a)\n",
        "print('Lagrange multipliers = ',lam)"
      ],
      "execution_count": null,
      "outputs": [
        {
          "output_type": "stream",
          "text": [
            "Lagrange multipliers =  [[-1. -1.]]\n"
          ],
          "name": "stdout"
        }
      ]
    },
    {
      "cell_type": "markdown",
      "metadata": {
        "id": "uncTNUEEMV3w"
      },
      "source": [
        "For more information see: https://jckantor.github.io/ND-Pyomo-Cookbook/02.01-Production-Models-with-Linear-Constraints.html\n"
      ]
    }
  ]
}